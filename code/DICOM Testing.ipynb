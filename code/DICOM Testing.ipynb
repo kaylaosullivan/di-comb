{
 "cells": [
  {
   "cell_type": "code",
   "execution_count": 1,
   "id": "dba7e1a8",
   "metadata": {},
   "outputs": [],
   "source": [
    "import os, sys, time\n",
    "import numpy as np\n",
    "import pydicom as dcm"
   ]
  },
  {
   "cell_type": "code",
   "execution_count": 236,
   "id": "9af7a4e1",
   "metadata": {},
   "outputs": [],
   "source": [
    "PATH = '/mnt/iDriveShare/Kayla/CBCT_images/kayla_extracted/'"
   ]
  },
  {
   "cell_type": "code",
   "execution_count": 229,
   "id": "840bf0fc",
   "metadata": {
    "scrolled": false
   },
   "outputs": [],
   "source": [
    "file_list = [f for f in os.listdir(PATH) if os.path.isfile(os.path.join(PATH, f))]\n",
    "file_list.sort()"
   ]
  },
  {
   "cell_type": "code",
   "execution_count": 230,
   "id": "3a79239f",
   "metadata": {},
   "outputs": [],
   "source": [
    "list_models = []\n",
    "model_dict = {'Patient Verification':'CBCT', 'Brilliance Big Bore':'CT', 'ARIA RadOnc':'RT'}\n",
    "\n",
    "def basic_sort_files_by_date(list_images):\n",
    "    for file in list_images:\n",
    "        d = dcm.read_file(PATH + file)\n",
    "        man_model = d.ManufacturerModelName\n",
    "        \n",
    "        try:\n",
    "            dicom_type = model_dict[man_model]\n",
    "        except:\n",
    "            dicom_type = man_model\n",
    "            \n",
    "        if man_model not in list_models:\n",
    "            list_models.append(man_model)\n",
    "        \n",
    "        try: \n",
    "            new_path = PATH + d.AcquisitionDate\n",
    "        except:\n",
    "            new_path = PATH + d.StudyDate\n",
    "            \n",
    "        if not os.path.exists(new_path):\n",
    "            os.system(\"sudo mkdir \" + new_path)\n",
    "            print(\"Created Directory\" + new_path)\n",
    "        os.system(\"sudo mv \" + PATH+file +\" \" + new_path+\"/\"+file)\n",
    "        \n",
    "        file_list = [f for f in os.listdir(PATH) if os.path.isfile(os.path.join(PATH, f))]"
   ]
  },
  {
   "cell_type": "code",
   "execution_count": 237,
   "id": "da3ace91",
   "metadata": {},
   "outputs": [],
   "source": [
    "def find_RT_dicoms(file_list):\n",
    "    list_RT = []\n",
    "    list_RE = []\n",
    "    list_RS = []\n",
    "    list_RI = []\n",
    "    list_RD = []\n",
    "    other = []\n",
    "\n",
    "    for file in file_list:\n",
    "        if 'RT' in file:\n",
    "            list_RT.append(file)\n",
    "        elif 'RE' in file:\n",
    "            list_RE.append(file)\n",
    "        elif 'RS' in file:\n",
    "             list_RS.append(file)\n",
    "        elif 'RI' in file:\n",
    "            list_RI.append(file)\n",
    "        elif 'RD' in file:\n",
    "            list_RD.append(file)\n",
    "        elif 'CT' not in file:\n",
    "            other.append(file)\n",
    "            \n",
    "    print(\"RT: \" , len(list_RT))\n",
    "    print(\"RS: \" , len(list_RS))\n",
    "    print(\"RI: \" , len(list_RI))\n",
    "    print(\"RE: \", len(list_RE))\n",
    "    print(\"RD: \", len(list_RD))\n",
    "    print(\"other: \" , len(other))\n",
    "        "
   ]
  },
  {
   "cell_type": "code",
   "execution_count": null,
   "id": "d0d83933",
   "metadata": {},
   "outputs": [],
   "source": []
  },
  {
   "cell_type": "code",
   "execution_count": 83,
   "id": "3b9eb615",
   "metadata": {},
   "outputs": [],
   "source": [
    "dict_class_UID = {'1.2.840.10008.5.1.4.1.1.2': 'CT', '1.2.840.10008.5.1.4.1.1.481.1': 'RI' }"
   ]
  },
  {
   "cell_type": "code",
   "execution_count": 235,
   "id": "4f2e532a",
   "metadata": {},
   "outputs": [],
   "source": [
    "def remove_RI_RT_files(file_list):\n",
    "    RI_count = 0\n",
    "    RT_count = 0\n",
    "    RE_count = 0\n",
    "    \n",
    "    RT_path = PATH + \"RT\"\n",
    "    if not os.path.exists(RT_path):\n",
    "        os.system(\"sudo mkdir \" + RT_path)\n",
    "        print(\"Created directory \"+RT_path)\n",
    "\n",
    "    RI_path = PATH + \"RI\"\n",
    "    if not os.path.exists(RI_path):\n",
    "        os.system(\"sudo mkdir \" + RI_path)\n",
    "        print(\"Created directory \"+RI_path)\n",
    "    \n",
    "    for file in file_list:\n",
    "        if 'RT' in file:\n",
    "            os.system(\"sudo mv \" + PATH+file +\" \" + RT_path+\"/\"+file)\n",
    "            RT_count += 1\n",
    "        elif 'RI' in file:\n",
    "            os.system(\"sudo mv \" + PATH+file +\" \" + RI_path+\"/\"+file)\n",
    "            RI_count += 1\n",
    "        elif 'RE' in file:\n",
    "            RE_class = dcm.read_file(PATH+file).ReferencedSeriesSequence[0].ReferencedInstanceSequence[0].ReferencedSOPClassUID\n",
    "            if dict_class_UID[RE_class] == 'RI':\n",
    "                os.system(\"sudo mv \" + PATH+file +\" \" + RI_path+\"/\"+file)\n",
    "                RE_count += 1\n",
    "    print(\"----------------------------------------\")\n",
    "    print(\"Files moved: \", RT_count, \" RT, \", RI_count, \" RI, \",RE_count, \" RE\")\n",
    "    file_list = [f for f in os.listdir(PATH) if os.path.isfile(os.path.join(PATH, f))]\n",
    "    print(\"Files remaining: \", len(file_list))\n",
    "                \n",
    "                \n",
    "            "
   ]
  },
  {
   "cell_type": "code",
   "execution_count": 234,
   "id": "38340758",
   "metadata": {},
   "outputs": [],
   "source": [
    "def sort_image_files_by_RS(file_list):\n",
    "    uid_dict = {}\n",
    "    list_RE = []\n",
    "    list_RS = []\n",
    "    list_RD = []\n",
    "    CT_count = 0\n",
    "    other = []\n",
    "    \n",
    "    for file in file_list:\n",
    "        if 'RE' in file:\n",
    "            list_RE.append(file)\n",
    "        elif 'RS' in file:\n",
    "             list_RS.append(file)\n",
    "        elif 'RD' in file:\n",
    "            list_RD.append(file)\n",
    "        elif 'CT' not in file:\n",
    "            other.append(file)\n",
    "            \n",
    "    for file in list_RS:\n",
    "        if 'RS' in file:\n",
    "            d = dcm.read_file(PATH+file)\n",
    "            \n",
    "            new_path = PATH + d.StructureSetLabel\n",
    "#             print(new_path)\n",
    "            if not os.path.exists(new_path):\n",
    "                os.system(\"sudo mkdir \" + new_path)\n",
    "                print(\"Created directory \"+new_path)\n",
    "        \n",
    "            os.system(\"sudo mv \" + PATH+file +\" \" + new_path+\"/\"+file)\n",
    "    \n",
    "            frame_of_reference_uid = d.ReferencedFrameOfReferenceSequence[0].FrameOfReferenceUID\n",
    "            uid_dict.update({frame_of_reference_uid: new_path})\n",
    "        \n",
    "            \n",
    "            for img in d.ReferencedFrameOfReferenceSequence[0].RTReferencedStudySequence[0].RTReferencedSeriesSequence[0].ContourImageSequence:\n",
    "                uid = img.ReferencedSOPInstanceUID \n",
    "                os.system(\"sudo mv \" + PATH+\"CT.\"+uid+\".dcm\" +\" \" + new_path+\"/\"+\"CT.\"+uid+\".dcm\")\n",
    "                CT_count += 1\n",
    "\n",
    "    \n",
    "    for file in list_RE:\n",
    "        d = dcm.read_file(PATH+file)\n",
    "        try:\n",
    "            frame_of_reference_uid = d.RegistrationSequence[1].FrameOfReferenceUID\n",
    "        except:\n",
    "            print(\"HERE\")\n",
    "            frame_of_reference_uid = d.FrameOfReferenceUID\n",
    "        os.system(\"sudo mv \" + PATH+file +\" \" + uid_dict[frame_of_reference_uid]+\"/\"+file)\n",
    "\n",
    "    for file in list_RD:\n",
    "        d = dcm.read_file(PATH+file)\n",
    "        frame_of_reference_uid = d.FrameOfReferenceUID\n",
    "        os.system(\"sudo mv \" + PATH+file +\" \" + uid_dict[frame_of_reference_uid]+\"/\"+file)\n",
    "    \n",
    "    if len(other) != 0:\n",
    "        print(\"Other files not moved\")\n",
    "        for file in other:\n",
    "            print(file)\n",
    "    \n",
    "    print(\"----------------------------------------\")\n",
    "    print(\"Files moved: \",CT_count, \" CT, \", len(list_RS), \" RS, \", len(list_RE), \" RE, \",len(list_RD), \" RD\")\n",
    "    file_list = [f for f in os.listdir(PATH) if os.path.isfile(os.path.join(PATH, f))]\n",
    "    print(\"Files remaining: \", len(file_list))"
   ]
  },
  {
   "cell_type": "code",
   "execution_count": null,
   "id": "d45f3bb9",
   "metadata": {},
   "outputs": [],
   "source": [
    "find_RT_dicoms(file_list)"
   ]
  },
  {
   "cell_type": "code",
   "execution_count": null,
   "id": "dd8ff13e",
   "metadata": {},
   "outputs": [],
   "source": [
    "remove_RI_RT_files(file_list)"
   ]
  },
  {
   "cell_type": "code",
   "execution_count": 189,
   "id": "1b21c7c5",
   "metadata": {},
   "outputs": [
    {
     "ename": "KeyError",
     "evalue": "'1.2.246.352.221.516817255461858266617223958142835396797'",
     "output_type": "error",
     "traceback": [
      "\u001b[0;31m---------------------------------------------------------------------------\u001b[0m",
      "\u001b[0;31mKeyError\u001b[0m                                  Traceback (most recent call last)",
      "Cell \u001b[0;32mIn[189], line 1\u001b[0m\n\u001b[0;32m----> 1\u001b[0m \u001b[43msort_image_files_by_RS\u001b[49m\u001b[43m(\u001b[49m\u001b[43mfile_list\u001b[49m\u001b[43m)\u001b[49m\n\u001b[1;32m      2\u001b[0m file_list \u001b[38;5;241m=\u001b[39m [f \u001b[38;5;28;01mfor\u001b[39;00m f \u001b[38;5;129;01min\u001b[39;00m os\u001b[38;5;241m.\u001b[39mlistdir(PATH) \u001b[38;5;28;01mif\u001b[39;00m os\u001b[38;5;241m.\u001b[39mpath\u001b[38;5;241m.\u001b[39misfile(os\u001b[38;5;241m.\u001b[39mpath\u001b[38;5;241m.\u001b[39mjoin(PATH, f))]\n",
      "Cell \u001b[0;32mIn[186], line 55\u001b[0m, in \u001b[0;36msort_image_files_by_RS\u001b[0;34m(file_list)\u001b[0m\n\u001b[1;32m     53\u001b[0m     d \u001b[38;5;241m=\u001b[39m dcm\u001b[38;5;241m.\u001b[39mread_file(PATH\u001b[38;5;241m+\u001b[39mfile)\n\u001b[1;32m     54\u001b[0m     frame_of_reference_uid \u001b[38;5;241m=\u001b[39m d\u001b[38;5;241m.\u001b[39mFrameOfReferenceUID\n\u001b[0;32m---> 55\u001b[0m     os\u001b[38;5;241m.\u001b[39msystem(\u001b[38;5;124m\"\u001b[39m\u001b[38;5;124msudo mv \u001b[39m\u001b[38;5;124m\"\u001b[39m \u001b[38;5;241m+\u001b[39m PATH\u001b[38;5;241m+\u001b[39mfile \u001b[38;5;241m+\u001b[39m\u001b[38;5;124m\"\u001b[39m\u001b[38;5;124m \u001b[39m\u001b[38;5;124m\"\u001b[39m \u001b[38;5;241m+\u001b[39m \u001b[43muid_dict\u001b[49m\u001b[43m[\u001b[49m\u001b[43mframe_of_reference_uid\u001b[49m\u001b[43m]\u001b[49m\u001b[38;5;241m+\u001b[39m\u001b[38;5;124m\"\u001b[39m\u001b[38;5;124m/\u001b[39m\u001b[38;5;124m\"\u001b[39m\u001b[38;5;241m+\u001b[39mfile)\n\u001b[1;32m     57\u001b[0m \u001b[38;5;28;01mif\u001b[39;00m \u001b[38;5;28mlen\u001b[39m(other) \u001b[38;5;241m!=\u001b[39m \u001b[38;5;241m0\u001b[39m:\n\u001b[1;32m     58\u001b[0m     \u001b[38;5;28mprint\u001b[39m(\u001b[38;5;124m\"\u001b[39m\u001b[38;5;124mOther files not moved\u001b[39m\u001b[38;5;124m\"\u001b[39m)\n",
      "\u001b[0;31mKeyError\u001b[0m: '1.2.246.352.221.516817255461858266617223958142835396797'"
     ]
    }
   ],
   "source": [
    "sort_image_files_by_RS(file_list)"
   ]
  },
  {
   "cell_type": "code",
   "execution_count": null,
   "id": "38dc62d7",
   "metadata": {},
   "outputs": [],
   "source": []
  },
  {
   "cell_type": "code",
   "execution_count": null,
   "id": "536b34f7",
   "metadata": {},
   "outputs": [],
   "source": []
  },
  {
   "cell_type": "code",
   "execution_count": null,
   "id": "8d66b38e",
   "metadata": {},
   "outputs": [],
   "source": []
  }
 ],
 "metadata": {
  "kernelspec": {
   "display_name": "Python 3 (ipykernel)",
   "language": "python",
   "name": "python3"
  },
  "language_info": {
   "codemirror_mode": {
    "name": "ipython",
    "version": 3
   },
   "file_extension": ".py",
   "mimetype": "text/x-python",
   "name": "python",
   "nbconvert_exporter": "python",
   "pygments_lexer": "ipython3",
   "version": "3.8.10"
  }
 },
 "nbformat": 4,
 "nbformat_minor": 5
}
